{
 "cells": [
  {
   "cell_type": "code",
   "execution_count": 5,
   "id": "eb007a44-2a98-4334-ae84-178648b6ba80",
   "metadata": {},
   "outputs": [
    {
     "name": "stdout",
     "output_type": "stream",
     "text": [
      "Full training data ready for Cross Validation.\n"
     ]
    }
   ],
   "source": [
    "import pandas as pd\n",
    "\n",
    "# Load train and validation datasets\n",
    "train_path = \"/home/danial/Data Science/Churn Prediction/Data/Splitted/train.csv\"\n",
    "val_path = \"/home/danial/Data Science/Churn Prediction/Data/Splitted/val.csv\"\n",
    "\n",
    "train_df = pd.read_csv(train_path)\n",
    "val_df = pd.read_csv(val_path)\n",
    "\n",
    "# Combine train + validation for cross-validation\n",
    "full_train = pd.concat([train_df, val_df], axis=0)\n",
    "\n",
    "X_full = full_train.drop(columns=[\"Churn\"])\n",
    "y_full = full_train[\"Churn\"]\n",
    "\n",
    "print(\"Full training data ready for Cross Validation.\")\n"
   ]
  },
  {
   "cell_type": "code",
   "execution_count": 6,
   "id": "644b8bd1-33af-48fd-98ba-c1c8ccfeb957",
   "metadata": {},
   "outputs": [
    {
     "name": "stdout",
     "output_type": "stream",
     "text": [
      "Logistic Regression CV F1-scores: [0.58422939 0.55363322 0.58940397 0.59567388 0.58387097]\n",
      "Mean F1: 0.5813622853595666\n",
      "Standard Deviation F1: 0.014511411765628292\n"
     ]
    }
   ],
   "source": [
    "from sklearn.pipeline import Pipeline\n",
    "from sklearn.preprocessing import StandardScaler\n",
    "from sklearn.linear_model import LogisticRegression\n",
    "from sklearn.model_selection import StratifiedKFold, cross_val_score\n",
    "import numpy as np\n",
    "\n",
    "# Define best hyperparameters from tuning\n",
    "best_logreg_params = {\n",
    "    \"C\": 0.01,\n",
    "    \"solver\": \"lbfgs\",\n",
    "    \"max_iter\": 200\n",
    "}\n",
    "\n",
    "# Build pipeline\n",
    "logreg_pipe = Pipeline([\n",
    "    (\"scaler\", StandardScaler()),\n",
    "    (\"clf\", LogisticRegression(**best_logreg_params))\n",
    "])\n",
    "\n",
    "# Stratified K-Fold\n",
    "skf = StratifiedKFold(n_splits=5, shuffle=True, random_state=42)\n",
    "\n",
    "# Cross-validation using F1-score\n",
    "cv_scores_logreg = cross_val_score(logreg_pipe, X_full, y_full, cv=skf, scoring=\"f1\", n_jobs=-1)\n",
    "\n",
    "print(\"Logistic Regression CV F1-scores:\", cv_scores_logreg)\n",
    "print(\"Mean F1:\", np.mean(cv_scores_logreg))\n",
    "print(\"Standard Deviation F1:\", np.std(cv_scores_logreg))\n"
   ]
  },
  {
   "cell_type": "code",
   "execution_count": 7,
   "id": "b1dfafa9-ec52-4ab3-ba99-c94ddbd654b4",
   "metadata": {},
   "outputs": [
    {
     "name": "stdout",
     "output_type": "stream",
     "text": [
      "Decision Tree CV F1-scores: [0.515625   0.52059308 0.52       0.58751903 0.56585366]\n",
      "Mean F1: 0.5419181530273305\n",
      "Standard Deviation F1: 0.02925351967002681\n"
     ]
    }
   ],
   "source": [
    "from sklearn.tree import DecisionTreeClassifier\n",
    "\n",
    "# Define best hyperparameters from tuning\n",
    "best_tree_params = {\n",
    "    \"max_depth\": 5,\n",
    "    \"min_samples_split\": 2,\n",
    "    \"min_samples_leaf\": 1,\n",
    "    \"criterion\": \"gini\"\n",
    "}\n",
    "\n",
    "# Build Decision Tree\n",
    "best_tree = DecisionTreeClassifier(**best_tree_params, random_state=42)\n",
    "\n",
    "# Cross-validation using F1-score\n",
    "cv_scores_tree = cross_val_score(best_tree, X_full, y_full, cv=skf, scoring=\"f1\", n_jobs=-1)\n",
    "\n",
    "print(\"Decision Tree CV F1-scores:\", cv_scores_tree)\n",
    "print(\"Mean F1:\", np.mean(cv_scores_tree))\n",
    "print(\"Standard Deviation F1:\", np.std(cv_scores_tree))\n"
   ]
  },
  {
   "cell_type": "code",
   "execution_count": 8,
   "id": "0bf0cd9d-1ba6-4f49-94c4-c4bf3117e7d4",
   "metadata": {},
   "outputs": [
    {
     "name": "stdout",
     "output_type": "stream",
     "text": [
      "Logistic Regression Mean F1: 0.581, Std: 0.015\n",
      "Decision Tree Mean F1: 0.542, Std: 0.029\n",
      "Logistic Regression shows better generalization and stability.\n"
     ]
    }
   ],
   "source": [
    "print(\"Logistic Regression Mean F1: {:.3f}, Std: {:.3f}\".format(np.mean(cv_scores_logreg), np.std(cv_scores_logreg)))\n",
    "print(\"Decision Tree Mean F1: {:.3f}, Std: {:.3f}\".format(np.mean(cv_scores_tree), np.std(cv_scores_tree)))\n",
    "\n",
    "if np.mean(cv_scores_logreg) > np.mean(cv_scores_tree):\n",
    "    print(\"Logistic Regression shows better generalization and stability.\")\n",
    "else:\n",
    "    print(\"Decision Tree shows better generalization and stability.\")\n"
   ]
  },
  {
   "cell_type": "code",
   "execution_count": 9,
   "id": "4493b650-36aa-4586-89e7-211c287949fd",
   "metadata": {},
   "outputs": [
    {
     "name": "stdout",
     "output_type": "stream",
     "text": [
      "Final Logistic Regression model trained and saved at: /home/danial/Data Science/Churn Prediction/Models/logreg_final.pkl\n"
     ]
    }
   ],
   "source": [
    "import joblib\n",
    "from sklearn.pipeline import Pipeline\n",
    "from sklearn.preprocessing import StandardScaler\n",
    "from sklearn.linear_model import LogisticRegression\n",
    "\n",
    "# Best hyperparameters from tuning\n",
    "best_logreg_params = {\n",
    "    \"C\": 0.01,\n",
    "    \"solver\": \"lbfgs\",\n",
    "    \"max_iter\": 200\n",
    "}\n",
    "\n",
    "# Pipeline with scaling + Logistic Regression\n",
    "final_logreg_pipe = Pipeline([\n",
    "    (\"scaler\", StandardScaler()),\n",
    "    (\"clf\", LogisticRegression(**best_logreg_params))\n",
    "])\n",
    "\n",
    "# Train on full data (Train + Validation)\n",
    "final_logreg_pipe.fit(X_full, y_full)\n",
    "\n",
    "# Save the final trained model\n",
    "model_path = \"/home/danial/Data Science/Churn Prediction/Models/logreg_final.pkl\"\n",
    "joblib.dump(final_logreg_pipe, model_path)\n",
    "\n",
    "print(f\"Final Logistic Regression model trained and saved at: {model_path}\")\n"
   ]
  },
  {
   "cell_type": "code",
   "execution_count": null,
   "id": "7fe10fa0-9c20-4b74-b020-90205684b8ca",
   "metadata": {},
   "outputs": [],
   "source": []
  }
 ],
 "metadata": {
  "kernelspec": {
   "display_name": "Python (cpenv)",
   "language": "python",
   "name": "cpenv"
  },
  "language_info": {
   "codemirror_mode": {
    "name": "ipython",
    "version": 3
   },
   "file_extension": ".py",
   "mimetype": "text/x-python",
   "name": "python",
   "nbconvert_exporter": "python",
   "pygments_lexer": "ipython3",
   "version": "3.12.3"
  }
 },
 "nbformat": 4,
 "nbformat_minor": 5
}
