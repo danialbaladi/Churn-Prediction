{
 "cells": [
  {
   "cell_type": "code",
   "execution_count": 4,
   "id": "35aaf8c1-cc32-448b-a798-4023a17c5a94",
   "metadata": {},
   "outputs": [
    {
     "name": "stdout",
     "output_type": "stream",
     "text": [
      "Train shape: (5634, 29) Validation shape: (704, 29)\n"
     ]
    }
   ],
   "source": [
    "# --- Cell 1: Load train and validation datasets for model selection ---\n",
    "import pandas as pd\n",
    "\n",
    "# File paths\n",
    "train_path = \"/home/danial/Data Science/Churn Prediction/Data/Splitted/train.csv\"\n",
    "val_path = \"/home/danial/Data Science/Churn Prediction/Data/Splitted/val.csv\"\n",
    "\n",
    "# Load datasets\n",
    "train_df = pd.read_csv(train_path)\n",
    "val_df = pd.read_csv(val_path)\n",
    "\n",
    "# Split features and target\n",
    "X_train = train_df.drop(columns=['Churn'])\n",
    "y_train = train_df['Churn']\n",
    "X_val = val_df.drop(columns=['Churn'])\n",
    "y_val = val_df['Churn']\n",
    "\n",
    "print(\"Train shape:\", X_train.shape, \"Validation shape:\", X_val.shape)\n"
   ]
  },
  {
   "cell_type": "code",
   "execution_count": 5,
   "id": "ca544ae5-f40d-4068-bcf8-c34d266f3c1c",
   "metadata": {},
   "outputs": [
    {
     "name": "stdout",
     "output_type": "stream",
     "text": [
      "Validation Accuracy (Logistic Regression): 0.8054\n"
     ]
    }
   ],
   "source": [
    "# --- Cell 2: Train and evaluate a baseline Logistic Regression model ---\n",
    "from sklearn.linear_model import LogisticRegression\n",
    "from sklearn.metrics import accuracy_score\n",
    "\n",
    "# Initialize and train Logistic Regression\n",
    "log_reg = LogisticRegression(max_iter=1000, random_state=42)\n",
    "log_reg.fit(X_train, y_train)\n",
    "\n",
    "# Predict and evaluate on validation set\n",
    "y_pred_val = log_reg.predict(X_val)\n",
    "acc_log = accuracy_score(y_val, y_pred_val)\n",
    "\n",
    "print(f\"Validation Accuracy (Logistic Regression): {acc_log:.4f}\")\n"
   ]
  },
  {
   "cell_type": "code",
   "execution_count": 6,
   "id": "a8ee78a2-1282-4da0-a4bd-03dd73b2cd1a",
   "metadata": {},
   "outputs": [
    {
     "name": "stdout",
     "output_type": "stream",
     "text": [
      "Validation Accuracy (Decision Tree): 0.7358\n"
     ]
    }
   ],
   "source": [
    "# --- Cell 3: Train and evaluate a baseline Decision Tree model ---\n",
    "from sklearn.tree import DecisionTreeClassifier\n",
    "\n",
    "# Initialize and train Decision Tree\n",
    "dt = DecisionTreeClassifier(random_state=42)\n",
    "dt.fit(X_train, y_train)\n",
    "\n",
    "# Predict and evaluate on validation set\n",
    "y_pred_val_dt = dt.predict(X_val)\n",
    "acc_dt = accuracy_score(y_val, y_pred_val_dt)\n",
    "\n",
    "print(f\"Validation Accuracy (Decision Tree): {acc_dt:.4f}\")\n"
   ]
  },
  {
   "cell_type": "code",
   "execution_count": 7,
   "id": "77cc4b16-cfcf-4209-bc50-03640c3daea0",
   "metadata": {},
   "outputs": [
    {
     "name": "stdout",
     "output_type": "stream",
     "text": [
      "Validation Accuracy (Naive Bayes): 0.7074\n"
     ]
    }
   ],
   "source": [
    "# --- Cell 4: Train and evaluate a baseline Naive Bayes model ---\n",
    "from sklearn.naive_bayes import GaussianNB\n",
    "\n",
    "# Initialize and train Naive Bayes\n",
    "nb = GaussianNB()\n",
    "nb.fit(X_train, y_train)\n",
    "\n",
    "# Predict and evaluate on validation set\n",
    "y_pred_val_nb = nb.predict(X_val)\n",
    "acc_nb = accuracy_score(y_val, y_pred_val_nb)\n",
    "\n",
    "print(f\"Validation Accuracy (Naive Bayes): {acc_nb:.4f}\")\n"
   ]
  },
  {
   "cell_type": "code",
   "execution_count": 8,
   "id": "c4c12e7b-59bc-4675-9a21-74d89a25efba",
   "metadata": {},
   "outputs": [
    {
     "name": "stdout",
     "output_type": "stream",
     "text": [
      "Logistic Regression: 0.8054\n",
      "Decision Tree: 0.7358\n",
      "Naive Bayes: 0.7074\n",
      "\n",
      "Best candidate model for next steps: Logistic Regression\n"
     ]
    }
   ],
   "source": [
    "# --- Cell 5: Compare baseline model performances and choose the best candidate ---\n",
    "results = {\n",
    "    \"Logistic Regression\": acc_log,\n",
    "    \"Decision Tree\": acc_dt,\n",
    "    \"Naive Bayes\": acc_nb\n",
    "}\n",
    "\n",
    "# Print all accuracies\n",
    "for model_name, acc in results.items():\n",
    "    print(f\"{model_name}: {acc:.4f}\")\n",
    "\n",
    "# Find the best model\n",
    "best_model = max(results, key=results.get)\n",
    "print(f\"\\nBest candidate model for next steps: {best_model}\")\n"
   ]
  },
  {
   "cell_type": "code",
   "execution_count": null,
   "id": "37ccc125-90e6-423f-b83c-f08b4c2a6bb3",
   "metadata": {},
   "outputs": [],
   "source": []
  }
 ],
 "metadata": {
  "kernelspec": {
   "display_name": "Python (cpenv)",
   "language": "python",
   "name": "cpenv"
  },
  "language_info": {
   "codemirror_mode": {
    "name": "ipython",
    "version": 3
   },
   "file_extension": ".py",
   "mimetype": "text/x-python",
   "name": "python",
   "nbconvert_exporter": "python",
   "pygments_lexer": "ipython3",
   "version": "3.12.3"
  }
 },
 "nbformat": 4,
 "nbformat_minor": 5
}
